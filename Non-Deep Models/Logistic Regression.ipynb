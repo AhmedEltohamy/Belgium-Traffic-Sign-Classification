{
 "cells": [
  {
   "cell_type": "code",
   "execution_count": null,
   "metadata": {},
   "outputs": [],
   "source": [
    "%run preprocessing.ipynb\n",
    "#the data loaded as [train_images,y_train,test_images,y_test]"
   ]
  },
  {
   "cell_type": "code",
   "execution_count": null,
   "metadata": {},
   "outputs": [],
   "source": [
    "with tf.Session() as sess:\n",
    "    train_labels = sess.run(tf.one_hot(y_train , 62))\n",
    "    test_labels = sess.run(tf.one_hot(y_test, 62))"
   ]
  },
  {
   "cell_type": "code",
   "execution_count": null,
   "metadata": {},
   "outputs": [],
   "source": [
    "X = tf.placeholder(tf.float32 , [None,4096])\n",
    "Y = tf.placeholder(tf.float32 , [None,62])\n",
    "W = tf.Variable(np.zeros((4096,62)).astype(np.float32))\n",
    "B = tf.Variable(np.zeros(62).astype(np.float32))"
   ]
  },
  {
   "cell_type": "code",
   "execution_count": null,
   "metadata": {},
   "outputs": [],
   "source": [
    "learning_rate = 0.01\n",
    "epochs = 1000\n",
    "batch_size = 900\n",
    "batches = int(train_images.shape[0] / batch_size)"
   ]
  },
  {
   "cell_type": "code",
   "execution_count": null,
   "metadata": {},
   "outputs": [],
   "source": [
    "pred = tf.nn.softmax(tf.add(tf.matmul(X,W), B))\n",
    "cost = tf.reduce_mean(-tf.reduce_sum(Y * tf.log(pred), axis=1))\n",
    "optimizer = tf.train.GradientDescentOptimizer(learning_rate).minimize(cost)"
   ]
  },
  {
   "cell_type": "code",
   "execution_count": null,
   "metadata": {},
   "outputs": [],
   "source": [
    "with tf.Session() as sesh:\n",
    "    sesh.run(tf.global_variables_initializer())\n",
    "    \n",
    "    for epoch in range(epochs):\n",
    "        for i in range(batches):\n",
    "            offset = i * epoch\n",
    "            x = train_images[offset: offset + batch_size]\n",
    "            y = train_labels[offset: offset + batch_size]\n",
    "            sesh.run(optimizer, feed_dict={X: x, Y:y})\n",
    "            c = sesh.run(cost, feed_dict={X:x, Y:y})\n",
    "         \n",
    "    print(f'epoch:{epoch:2d} cost={c:.4f}')\n",
    "    correct_pred = tf.equal(tf.argmax(pred, 1), tf.argmax(Y, 1))\n",
    "    accuracy = tf.reduce_mean(tf.cast(correct_pred, tf.float32))\n",
    "    acc = accuracy.eval({X: test_images, Y: test_labels})\n",
    "    print(f'Accuracy: {acc * 100:.2f}%')    \n",
    "\n",
    "    prediction = tf.nn.softmax(tf.add(tf.matmul(X,W), B))\n",
    "    y_pred = sesh.run(prediction,feed_dict={X:test_images})\n",
    "    y_pred = tf.argmax(y_pred, 1)\n",
    "    y_pred = y_pred.eval()"
   ]
  },
  {
   "cell_type": "code",
   "execution_count": null,
   "metadata": {},
   "outputs": [],
   "source": [
    "num_labels = [0,1,2,3,4,5,6,7,8,9,10,11,12,13,14,15,16,17,18,19,20,21,22,23,24,25,26,27,28,29,30,31,32,33,34,35,36,37,38,39,40,41,42,43,44,45,46,47,48,49,50,51,52,53,54,55,56,57,58,59,60,61]"
   ]
  },
  {
   "cell_type": "code",
   "execution_count": null,
   "metadata": {},
   "outputs": [],
   "source": [
    "mat = confusion_matrix(y_test, y_pred, labels=num_labels)"
   ]
  },
  {
   "cell_type": "code",
   "execution_count": null,
   "metadata": {},
   "outputs": [],
   "source": [
    "df_cm = pd.DataFrame(mat, range(62), range(62))\n",
    "plt.figure(figsize=(35,25))\n",
    "sn.set(font_scale=1)\n",
    "sn.heatmap(df_cm, cmap=\"Blues\",annot=True,annot_kws={\"size\": 16})\n",
    "plt.show()"
   ]
  }
 ],
 "metadata": {
  "kernelspec": {
   "display_name": "Python 3",
   "language": "python",
   "name": "python3"
  },
  "language_info": {
   "codemirror_mode": {
    "name": "ipython",
    "version": 3
   },
   "file_extension": ".py",
   "mimetype": "text/x-python",
   "name": "python",
   "nbconvert_exporter": "python",
   "pygments_lexer": "ipython3",
   "version": "3.6.10"
  }
 },
 "nbformat": 4,
 "nbformat_minor": 4
}
