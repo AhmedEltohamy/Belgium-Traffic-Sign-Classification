{
 "cells": [
  {
   "cell_type": "code",
   "execution_count": null,
   "metadata": {},
   "outputs": [],
   "source": [
    "import tensorflow as tf\n",
    "from skimage.transform import resize\n",
    "from skimage.color import rgb2gray\n",
    "from skimage import io\n",
    "import numpy as np\n",
    "import pandas as pd\n",
    "import matplotlib.pyplot as plt\n",
    "import seaborn as sn\n",
    "import os\n",
    "from sklearn.metrics import confusion_matrix, f1_score"
   ]
  },
  {
   "cell_type": "code",
   "execution_count": null,
   "metadata": {},
   "outputs": [],
   "source": [
    "def load_data(directory):\n",
    "    directories = [d for d in os.listdir(directory) if os.path.isdir(os.path.join(directory, d))]\n",
    "    labels = []\n",
    "    images = []\n",
    "    for d in directories:\n",
    "        label_folder = os.path.join(directory, d)\n",
    "        images_file = [os.path.join(label_folder, f) for f in os.listdir(label_folder) if f.endswith(\".ppm\")]\n",
    "        for f in images_file:\n",
    "            images.append(io.imread(f))\n",
    "            labels.append(int(d))\n",
    "    \n",
    "    labels = np.array(labels)\n",
    "    return images, labels"
   ]
  },
  {
   "cell_type": "code",
   "execution_count": null,
   "metadata": {},
   "outputs": [],
   "source": [
    "path = \"C:/Users/POP/Desktop/dataset\"\n",
    "train_data_path = os.path.join(path, \"Training\")\n",
    "test_data_path = os.path.join(path, \"Testing\")\n",
    "\n",
    "train_images, y_train = load_data(train_data_path)\n",
    "test_images, y_test = load_data(test_data_path)"
   ]
  },
  {
   "cell_type": "code",
   "execution_count": null,
   "metadata": {},
   "outputs": [],
   "source": [
    "def preprocessing(images):\n",
    "    resize_imgs = [resize(img, (64,64)) for img in images]\n",
    "    resize_imgs = np.array(resize_imgs)\n",
    "    gray_imgs = rgb2gray(resize_imgs)\n",
    "    reshape_imgs = gray_imgs.reshape(gray_imgs.shape[0], gray_imgs.shape[1] * gray_imgs.shape[2])\n",
    "    return reshape_imgs"
   ]
  },
  {
   "cell_type": "code",
   "execution_count": null,
   "metadata": {},
   "outputs": [],
   "source": [
    "train_images = preprocessing(train_images)\n",
    "test_images = preprocessing(test_images)"
   ]
  }
 ],
 "metadata": {
  "kernelspec": {
   "display_name": "Python 3",
   "language": "python",
   "name": "python3"
  },
  "language_info": {
   "codemirror_mode": {
    "name": "ipython",
    "version": 3
   },
   "file_extension": ".py",
   "mimetype": "text/x-python",
   "name": "python",
   "nbconvert_exporter": "python",
   "pygments_lexer": "ipython3",
   "version": "3.6.10"
  }
 },
 "nbformat": 4,
 "nbformat_minor": 4
}
